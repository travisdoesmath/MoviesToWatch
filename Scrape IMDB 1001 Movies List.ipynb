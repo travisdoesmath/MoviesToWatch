{
 "cells": [
  {
   "cell_type": "code",
   "execution_count": 98,
   "metadata": {},
   "outputs": [],
   "source": [
    "from bs4 import BeautifulSoup\n",
    "import requests\n",
    "import pymongo"
   ]
  },
  {
   "cell_type": "code",
   "execution_count": 2,
   "metadata": {
    "collapsed": true
   },
   "outputs": [],
   "source": [
    "url = 'https://www.imdb.com/list/ls052535080/?sort=list_order,asc&st_dt=&mode=detail&page=1'"
   ]
  },
  {
   "cell_type": "code",
   "execution_count": 3,
   "metadata": {
    "collapsed": true
   },
   "outputs": [],
   "source": [
    "response = requests.get(url)"
   ]
  },
  {
   "cell_type": "code",
   "execution_count": 8,
   "metadata": {},
   "outputs": [],
   "source": [
    "soup = BeautifulSoup(response.content, 'lxml')"
   ]
  },
  {
   "cell_type": "code",
   "execution_count": 10,
   "metadata": {},
   "outputs": [],
   "source": [
    "list_divs = soup.body.find_all('div', {'class':'lister-item'})"
   ]
  },
  {
   "cell_type": "code",
   "execution_count": 11,
   "metadata": {},
   "outputs": [
    {
     "data": {
      "text/plain": [
       "100"
      ]
     },
     "execution_count": 11,
     "metadata": {},
     "output_type": "execute_result"
    }
   ],
   "source": [
    "len(list_divs)"
   ]
  },
  {
   "cell_type": "code",
   "execution_count": 18,
   "metadata": {},
   "outputs": [
    {
     "name": "stdout",
     "output_type": "stream",
     "text": [
      "https://www.imdb.com/list/ls052535080/?sort=list_order,asc&st_dt=&mode=detail&page=1 200\n",
      "https://www.imdb.com/list/ls052535080/?sort=list_order,asc&st_dt=&mode=detail&page=2 200\n",
      "https://www.imdb.com/list/ls052535080/?sort=list_order,asc&st_dt=&mode=detail&page=3 200\n",
      "https://www.imdb.com/list/ls052535080/?sort=list_order,asc&st_dt=&mode=detail&page=4 200\n",
      "https://www.imdb.com/list/ls052535080/?sort=list_order,asc&st_dt=&mode=detail&page=5 200\n",
      "https://www.imdb.com/list/ls052535080/?sort=list_order,asc&st_dt=&mode=detail&page=6 200\n",
      "https://www.imdb.com/list/ls052535080/?sort=list_order,asc&st_dt=&mode=detail&page=7 200\n",
      "https://www.imdb.com/list/ls052535080/?sort=list_order,asc&st_dt=&mode=detail&page=8 200\n",
      "https://www.imdb.com/list/ls052535080/?sort=list_order,asc&st_dt=&mode=detail&page=9 200\n",
      "https://www.imdb.com/list/ls052535080/?sort=list_order,asc&st_dt=&mode=detail&page=10 200\n",
      "https://www.imdb.com/list/ls052535080/?sort=list_order,asc&st_dt=&mode=detail&page=11 200\n"
     ]
    }
   ],
   "source": [
    "all_list_divs = []\n",
    "for page in range(1,12):\n",
    "    url = f'https://www.imdb.com/list/ls052535080/?sort=list_order,asc&st_dt=&mode=detail&page={page}'\n",
    "    response = requests.get(url)\n",
    "    print(url, response.status_code)\n",
    "    if (response.status_code == 200):\n",
    "        soup = BeautifulSoup(response.content, 'lxml')\n",
    "        list_divs = soup.body.find_all('div', {'class':'lister-item'})\n",
    "        all_list_divs += list_divs\n",
    "        "
   ]
  },
  {
   "cell_type": "code",
   "execution_count": 19,
   "metadata": {},
   "outputs": [
    {
     "data": {
      "text/plain": [
       "1001"
      ]
     },
     "execution_count": 19,
     "metadata": {},
     "output_type": "execute_result"
    }
   ],
   "source": [
    "len(all_list_divs)"
   ]
  },
  {
   "cell_type": "code",
   "execution_count": 136,
   "metadata": {},
   "outputs": [],
   "source": [
    "def parse_div(div):\n",
    "    return {\n",
    "        'index':int(div.find('h3').find('span', {'class':'lister-item-index'}).text[:-1].replace(',','')),\n",
    "        'img_url':div.find('img', {'class':'loadlate'})['loadlate'],\n",
    "        'title' : div.find('h3').find('a').text,\n",
    "        'title_url' : div.find('h3').find('a')['href'],\n",
    "        'title_id' : div.find('div', {'class':'lister-item-image ribbonize'})['data-tconst'],\n",
    "        'year' : div.find('h3').find('span',{'class':'lister-item-year'}).text[1:-1],\n",
    "        'summary' : div.find_all('p')[1].text.lstrip(),\n",
    "        'director' : div.find_all('p')[2].find_all('a')[0].text,\n",
    "        'director_url' : div.find_all('p')[2].find_all('a')[0]['href'],\n",
    "        'stars' : [x.text for x in div.find_all('p')[2].find_all('a')[1:]],\n",
    "        'star_urls' : [x['href'] for x in div.find_all('p')[2].find_all('a')[1:]]\n",
    "    }"
   ]
  },
  {
   "cell_type": "code",
   "execution_count": 132,
   "metadata": {},
   "outputs": [],
   "source": [
    "conn = 'mongodb://localhost:27017'\n",
    "client = pymongo.MongoClient(conn)"
   ]
  },
  {
   "cell_type": "code",
   "execution_count": 133,
   "metadata": {
    "collapsed": true
   },
   "outputs": [],
   "source": [
    "db = client.movies_db"
   ]
  },
  {
   "cell_type": "code",
   "execution_count": 137,
   "metadata": {},
   "outputs": [],
   "source": [
    "movies = [parse_div(div) for div in all_list_divs]"
   ]
  },
  {
   "cell_type": "code",
   "execution_count": 138,
   "metadata": {},
   "outputs": [
    {
     "data": {
      "text/plain": [
       "<pymongo.results.InsertManyResult at 0x21464e66fc0>"
      ]
     },
     "execution_count": 138,
     "metadata": {},
     "output_type": "execute_result"
    }
   ],
   "source": [
    "db.movies.insert_many(movies)"
   ]
  },
  {
   "cell_type": "code",
   "execution_count": 139,
   "metadata": {
    "collapsed": true
   },
   "outputs": [],
   "source": [
    "import urllib.request"
   ]
  },
  {
   "cell_type": "code",
   "execution_count": 148,
   "metadata": {},
   "outputs": [],
   "source": [
    "for movie in movies:\n",
    "    url = movie['img_url']\n",
    "    title_id = movie['title_id']\n",
    "    filename = f'./images/{title_id}.jpg'\n",
    "    urllib.request.urlretrieve(url,filename)"
   ]
  },
  {
   "cell_type": "code",
   "execution_count": 149,
   "metadata": {},
   "outputs": [
    {
     "data": {
      "text/plain": [
       "{'_id': ObjectId('5ae5302b2f16476408e0d0e9'),\n",
       " 'director': 'Georges Méliès',\n",
       " 'director_url': '/name/nm0617588/?ref_=ttls_li_dr_0',\n",
       " 'img_url': 'https://ia.media-imdb.com/images/M/MV5BMzcyYzhlMzctYjg1NS00ODJlLTkxOTUtYmQ4YjgxMWY5MGFlXkEyXkFqcGdeQXVyNDE5MTU2MDE@._V1_UY209_CR2,0,140,209_AL_.jpg',\n",
       " 'index': 1,\n",
       " 'star_urls': ['/name/nm0617588/?ref_=ttls_li_st_0',\n",
       "  '/name/nm0029244/?ref_=ttls_li_st_1',\n",
       "  '/name/nm0076933/?ref_=ttls_li_st_2',\n",
       "  '/name/nm1215996/?ref_=ttls_li_st_3'],\n",
       " 'stars': ['Georges Méliès', 'Victor André', 'Bleuette Bernon', 'Brunnet'],\n",
       " 'summary': 'A group of astronomers go on an expedition to the Moon.',\n",
       " 'title': 'A Trip to the Moon',\n",
       " 'title_id': 'tt0000417',\n",
       " 'title_url': '/title/tt0000417/?ref_=ttls_li_tt',\n",
       " 'year': '1902'}"
      ]
     },
     "execution_count": 149,
     "metadata": {},
     "output_type": "execute_result"
    }
   ],
   "source": [
    "movies[0]"
   ]
  },
  {
   "cell_type": "code",
   "execution_count": null,
   "metadata": {
    "collapsed": true
   },
   "outputs": [],
   "source": []
  }
 ],
 "metadata": {
  "kernelspec": {
   "display_name": "Python 3",
   "language": "python",
   "name": "python3"
  },
  "language_info": {
   "codemirror_mode": {
    "name": "ipython",
    "version": 3
   },
   "file_extension": ".py",
   "mimetype": "text/x-python",
   "name": "python",
   "nbconvert_exporter": "python",
   "pygments_lexer": "ipython3",
   "version": "3.6.3"
  }
 },
 "nbformat": 4,
 "nbformat_minor": 2
}
