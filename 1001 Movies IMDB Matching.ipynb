{
 "cells": [
  {
   "cell_type": "code",
   "execution_count": 1,
   "metadata": {
    "collapsed": true
   },
   "outputs": [],
   "source": [
    "import pandas as pd\n",
    "import numpy as np"
   ]
  },
  {
   "cell_type": "code",
   "execution_count": 2,
   "metadata": {},
   "outputs": [
    {
     "name": "stderr",
     "output_type": "stream",
     "text": [
      "Z:\\Anaconda\\lib\\site-packages\\IPython\\core\\interactiveshell.py:2698: DtypeWarning: Columns (7) have mixed types. Specify dtype option on import or set low_memory=False.\n",
      "  interactivity=interactivity, compiler=compiler, result=result)\n"
     ]
    }
   ],
   "source": [
    "# Load CSVs\n",
    "imdb_movies = pd.read_csv('Z:/Travis/MoviesToWatch/title_data.tsv', delimiter='\\t', na_values=['\\\\N'])\n",
    "movies_1001 = pd.read_csv('Z:/Travis/MoviesToWatch/movies1001.csv')"
   ]
  },
  {
   "cell_type": "code",
   "execution_count": 3,
   "metadata": {
    "collapsed": true
   },
   "outputs": [],
   "source": [
    "# Filter imdb_movies to shorts and movies, add a match_title\n",
    "imdb_movies = imdb_movies[imdb_movies['titleType'].apply(lambda x: x in ['short','movie'])]\n",
    "imdb_movies['match_title'] = imdb_movies['primaryTitle'].apply(lambda x: str(x).strip().lower())"
   ]
  },
  {
   "cell_type": "code",
   "execution_count": 4,
   "metadata": {
    "collapsed": true
   },
   "outputs": [],
   "source": [
    "# add match title to movies_1001\n",
    "def format_title(title):\n",
    "    primary_title = title.split('(')[0].strip()\n",
    "    end_word = primary_title.split(',')[-1]\n",
    "    if (end_word.strip() in ['A','An','The']):\n",
    "        primary_title = primary_title.split(',')[-1] + ' ' + primary_title.split(',')[0]\n",
    "    return primary_title.strip().lower()\n",
    "\n",
    "movies_1001['match_title'] = movies_1001['Movie Title'].apply(lambda x: format_title(x))"
   ]
  },
  {
   "cell_type": "code",
   "execution_count": 5,
   "metadata": {
    "collapsed": true
   },
   "outputs": [],
   "source": [
    "# manually enter IMDB IDs (multiple matches by title and year)\n",
    "movies_1001.loc[movies_1001['match_title'] == 'the great train robbery', 'imdb_id'] = 'tt0000439'\n",
    "movies_1001.loc[movies_1001['match_title'] == 'the wizard of oz', 'imdb_id'] = 'tt0032138'\n",
    "movies_1001.loc[movies_1001['match_title'] == 'rio grande', 'imdb_id'] = 'tt0042895'\n",
    "movies_1001.loc[movies_1001['match_title'] == 'high society', 'imdb_id'] = 'tt0049314'\n",
    "movies_1001.loc[movies_1001['match_title'] == 'the birds', 'imdb_id'] = 'tt0056869'\n",
    "movies_1001.loc[movies_1001['match_title'] == 'the jungle book', 'imdb_id'] = 'tt0061852'\n",
    "movies_1001.loc[movies_1001['match_title'] == 'faces', 'imdb_id'] = 'tt0062952'\n",
    "movies_1001.loc[movies_1001['match_title'] == 'stranger than paradise', 'imdb_id'] = 'tt0088184'\n",
    "movies_1001.loc[movies_1001['match_title'] == 'jacob\\'s ladder', 'imdb_id'] = 'tt0099871'\n",
    "movies_1001.loc[movies_1001['match_title'] == 'the piano', 'imdb_id'] = 'tt0107822'\n",
    "movies_1001.loc[movies_1001['match_title'] == 'safe', 'imdb_id'] = 'tt0114323'\n",
    "movies_1001.loc[movies_1001['match_title'] == 'no man\\'s land', 'imdb_id'] = 'tt0283509'\n",
    "movies_1001.loc[movies_1001['match_title'] == 'crash', 'imdb_id'] = 'tt0375679'\n",
    "movies_1001.loc[movies_1001['match_title'] == 'the host', 'imdb_id'] = 'tt0468492'\n",
    "movies_1001.loc[movies_1001['match_title'] == 'babel', 'imdb_id'] = 'tt0449467'\n",
    "movies_1001.loc[movies_1001['match_title'] == 'volver', 'imdb_id'] = 'tt0441909'\n",
    "movies_1001.loc[movies_1001['match_title'] == 'avatar', 'imdb_id'] = 'tt0499549'\n",
    "movies_1001.loc[movies_1001['match_title'] == 'fish tank', 'imdb_id'] = 'tt1232776'\n",
    "movies_1001.loc[movies_1001['match_title'] == 'monsters', 'imdb_id'] = 'tt1470827'\n",
    "movies_1001.loc[movies_1001['match_title'] == 'the artist', 'imdb_id'] = 'tt1655442'\n",
    "movies_1001.loc[movies_1001['match_title'] == 'drive', 'imdb_id'] = 'tt0780504'\n",
    "movies_1001.loc[movies_1001['match_title'] == 'hugo', 'imdb_id'] = 'tt0970179'\n",
    "movies_1001.loc[movies_1001['match_title'] == 'shame', 'imdb_id'] = 'tt1723811'\n",
    "movies_1001.loc[movies_1001['match_title'] == 'bridesmaids', 'imdb_id'] = 'tt1478338'\n",
    "movies_1001.loc[movies_1001['match_title'] == 'amour', 'imdb_id'] = 'tt1602620'\n",
    "movies_1001.loc[movies_1001['match_title'] == 'gravity', 'imdb_id'] = 'tt1454468'\n",
    "movies_1001.loc[movies_1001['match_title'] == 'under the skin', 'imdb_id'] = 'tt1441395'\n",
    "movies_1001.loc[movies_1001['match_title'] == 'boyhood', 'imdb_id'] = 'tt1065073'\n",
    "movies_1001.loc[movies_1001['match_title'] == 'whiplash', 'imdb_id'] = 'tt2582802'\n",
    "movies_1001.loc[movies_1001['match_title'] == 'the theory of everything', 'imdb_id'] = 'tt2980516'\n",
    "movies_1001.loc[movies_1001['match_title'] == 'robocop', 'imdb_id'] = 'tt0093870'\n",
    "movies_1001.loc[movies_1001['match_title'] == 'the blue angel', 'imdb_id'] = 'tt0020697'\n",
    "movies_1001.loc[movies_1001['match_title'] == 'earth', 'imdb_id'] = 'tt0021571'\n",
    "movies_1001.loc[movies_1001['match_title'] == 'alice', 'imdb_id'] = 'tt0095715'\n",
    "movies_1001.loc[movies_1001['match_title'] == 'scream', 'imdb_id'] = 'tt0117571'\n",
    "movies_1001.loc[movies_1001['match_title'] == 'fireworks', 'imdb_id'] = 'tt0119250'\n",
    "movies_1001.loc[movies_1001['match_title'] == 'hero', 'imdb_id'] = 'tt0299977'\n",
    "movies_1001.loc[movies_1001['match_title'] == 'irreversible', 'imdb_id'] = 'tt0290673'\n",
    "\n",
    "# manually enter IMDB IDs (awkward title formatting)\n",
    "movies_1001.loc[movies_1001['Movie Title'] == 'Good, the Bad, and the Ugly, The (Il buono, il bruto, il cattivo)', 'imdb_id'] = 'tt0060196'\n",
    "movies_1001.loc[movies_1001['Movie Title'] == 'Good, the Bad, the Weird, The (Joheunnom nabbeunnom isanghannom)', 'imdb_id'] = 'tt0901487'\n",
    "movies_1001.loc[movies_1001['match_title'] == 'birdman: or', 'imdb_id'] = 'tt2562232'"
   ]
  },
  {
   "cell_type": "code",
   "execution_count": 6,
   "metadata": {},
   "outputs": [
    {
     "data": {
      "text/plain": [
       "1135"
      ]
     },
     "execution_count": 6,
     "metadata": {},
     "output_type": "execute_result"
    }
   ],
   "source": [
    "# 1135 remaining\n",
    "unmatched_movies_1001 = movies_1001[pd.isnull(movies_1001['imdb_id'])]\n",
    "len(unmatched_movies_1001)"
   ]
  },
  {
   "cell_type": "code",
   "execution_count": 7,
   "metadata": {
    "collapsed": true
   },
   "outputs": [],
   "source": [
    "initial_match = pd.merge(unmatched_movies_1001,imdb_movies, how='left', left_on=['match_title','Year'], right_on=['match_title','startYear'])\n",
    "initial_match = initial_match[pd.notnull(initial_match['tconst'])][['match_title','tconst']]"
   ]
  },
  {
   "cell_type": "code",
   "execution_count": 8,
   "metadata": {},
   "outputs": [],
   "source": [
    "movies_1001 = pd.merge(movies_1001,initial_match,how='left', on='match_title')\n",
    "movies_1001['imdb_id'] = movies_1001['imdb_id'].fillna(movies_1001['tconst'])\n",
    "movies_1001 = movies_1001[['Movie Title','Seen','Year','match_title','imdb_id']]"
   ]
  },
  {
   "cell_type": "code",
   "execution_count": 9,
   "metadata": {},
   "outputs": [
    {
     "data": {
      "text/plain": [
       "132"
      ]
     },
     "execution_count": 9,
     "metadata": {},
     "output_type": "execute_result"
    }
   ],
   "source": [
    "# 132 remaining\n",
    "unmatched_movies_1001 = movies_1001[pd.isnull(movies_1001['imdb_id'])]\n",
    "len(unmatched_movies_1001)"
   ]
  },
  {
   "cell_type": "code",
   "execution_count": 10,
   "metadata": {},
   "outputs": [
    {
     "data": {
      "text/html": [
       "<div>\n",
       "<style>\n",
       "    .dataframe thead tr:only-child th {\n",
       "        text-align: right;\n",
       "    }\n",
       "\n",
       "    .dataframe thead th {\n",
       "        text-align: left;\n",
       "    }\n",
       "\n",
       "    .dataframe tbody tr th {\n",
       "        vertical-align: top;\n",
       "    }\n",
       "</style>\n",
       "<table border=\"1\" class=\"dataframe\">\n",
       "  <thead>\n",
       "    <tr style=\"text-align: right;\">\n",
       "      <th></th>\n",
       "      <th>match_title</th>\n",
       "      <th>tconst</th>\n",
       "    </tr>\n",
       "  </thead>\n",
       "  <tbody>\n",
       "    <tr>\n",
       "      <th>6</th>\n",
       "      <td>the smiling madame beudet</td>\n",
       "      <td>tt0013626</td>\n",
       "    </tr>\n",
       "    <tr>\n",
       "      <th>9</th>\n",
       "      <td>strike</td>\n",
       "      <td>tt0015361</td>\n",
       "    </tr>\n",
       "    <tr>\n",
       "      <th>29</th>\n",
       "      <td>the general</td>\n",
       "      <td>tt0017925</td>\n",
       "    </tr>\n",
       "    <tr>\n",
       "      <th>52</th>\n",
       "      <td>un chien andalou</td>\n",
       "      <td>tt0020530</td>\n",
       "    </tr>\n",
       "    <tr>\n",
       "      <th>63</th>\n",
       "      <td>the bitter tea of general yen</td>\n",
       "      <td>tt0023814</td>\n",
       "    </tr>\n",
       "  </tbody>\n",
       "</table>\n",
       "</div>"
      ],
      "text/plain": [
       "                      match_title     tconst\n",
       "6       the smiling madame beudet  tt0013626\n",
       "9                          strike  tt0015361\n",
       "29                    the general  tt0017925\n",
       "52               un chien andalou  tt0020530\n",
       "63  the bitter tea of general yen  tt0023814"
      ]
     },
     "execution_count": 10,
     "metadata": {},
     "output_type": "execute_result"
    }
   ],
   "source": [
    "second_match = pd.merge(unmatched_movies_1001,imdb_movies, how='left', left_on=['match_title'], right_on=['match_title'])\n",
    "second_match = second_match[np.abs(second_match['Year'] - second_match['startYear']) < 2][['match_title','tconst']]\n",
    "second_match.head()"
   ]
  },
  {
   "cell_type": "code",
   "execution_count": 11,
   "metadata": {
    "collapsed": true
   },
   "outputs": [],
   "source": [
    "movies_1001 = pd.merge(movies_1001, second_match, how='left', on='match_title')\n",
    "movies_1001['imdb_id'] = movies_1001['imdb_id'].fillna(movies_1001['tconst'])\n",
    "movies_1001 = movies_1001[['Movie Title','Seen','Year','match_title','imdb_id']]"
   ]
  },
  {
   "cell_type": "code",
   "execution_count": 12,
   "metadata": {},
   "outputs": [
    {
     "data": {
      "text/plain": [
       "93"
      ]
     },
     "execution_count": 12,
     "metadata": {},
     "output_type": "execute_result"
    }
   ],
   "source": [
    "# 93 remaining\n",
    "unmatched_movies_1001 = movies_1001[pd.isnull(movies_1001['imdb_id'])]\n",
    "len(unmatched_movies_1001)"
   ]
  },
  {
   "cell_type": "code",
   "execution_count": 13,
   "metadata": {},
   "outputs": [],
   "source": [
    "unmatched_movies_1001.to_csv('Z:/Travis/MoviesToWatch/unmatched_movies.csv')"
   ]
  },
  {
   "cell_type": "code",
   "execution_count": 18,
   "metadata": {},
   "outputs": [],
   "source": [
    "movies_1001.loc[movies_1001['match_title'] == 'intolerance', 'imdb_id'] = 'tt0006864'\n",
    "movies_1001.loc[movies_1001['match_title'] == 'dr. mabuse parts 1 and 2', 'imdb_id'] = 'tt0013086'\n",
    "movies_1001.loc[movies_1001['match_title'] == 'haxan', 'imdb_id'] = 'tt0013257'\n",
    "movies_1001.loc[movies_1001['match_title'] == 'sherlock, jr.', 'imdb_id'] = 'tt0015324'\n",
    "movies_1001.loc[movies_1001['match_title'] == 'sunrise: a song of two humans', 'imdb_id'] = 'tt0018455'\n",
    "movies_1001.loc[movies_1001['match_title'] == 'october', 'imdb_id'] = 'tt0018217'\n",
    "movies_1001.loc[movies_1001['match_title'] == 'the man with the movie camera', 'imdb_id'] = 'tt0019760'\n",
    "movies_1001.loc[movies_1001['match_title'] == 'a nous la liberte', 'imdb_id'] = 'tt0022599'\n",
    "movies_1001.loc[movies_1001['match_title'] == 'tabu', 'imdb_id'] = 'tt0022458'\n",
    "movies_1001.loc[movies_1001['match_title'] == 'scarface: the shame of a nation', 'imdb_id'] = 'tt0023427'\n",
    "movies_1001.loc[movies_1001['match_title'] == 'pepe le moko', 'imdb_id'] = 'tt0029453'\n",
    "movies_1001.loc[movies_1001['match_title'] == 'grand illusion', 'imdb_id'] = 'tt0028950'\n",
    "movies_1001.loc[movies_1001['match_title'] == 'olympia part 1: festival of the nations', 'imdb_id'] = 'tt0030522'\n",
    "movies_1001.loc[movies_1001['match_title'] == 'olympia part 2: festival of beauty', 'imdb_id'] = 'tt0030523'\n",
    "movies_1001.loc[movies_1001['match_title'] == 'daybreak', 'imdb_id'] = 'tt0031514'\n",
    "movies_1001.loc[movies_1001['match_title'] == 'i know where i\\'m going!', 'imdb_id'] = 'tt0037800'\n",
    "movies_1001.loc[movies_1001['match_title'] == 'the battle of san pietro', 'imdb_id'] = 'tt0036630'\n",
    "movies_1001.loc[movies_1001['match_title'] == 'secret beyond the door', 'imdb_id'] = 'tt0040766'\n",
    "movies_1001.loc[movies_1001['match_title'] == 'whisky galore!', 'imdb_id'] = 'tt0042040'\n",
    "movies_1001.loc[movies_1001['match_title'] == 'sunset blvd.', 'imdb_id'] = 'tt0043014'\n",
    "movies_1001.loc[movies_1001['match_title'] == 'los olvidados', 'imdb_id'] = 'tt0042804'\n",
    "movies_1001.loc[movies_1001['match_title'] == 'europa \\'51', 'imdb_id'] = 'tt0043511'\n",
    "movies_1001.loc[movies_1001['match_title'] == 'umberto d', 'imdb_id'] = 'tt0045274'\n",
    "movies_1001.loc[movies_1001['match_title'] == 'mr. hulot\\'s holiday', 'imdb_id'] = 'tt0046487'\n",
    "movies_1001.loc[movies_1001['match_title'] == 'the earrings of madame de…', 'imdb_id'] = 'tt0046022'\n",
    "movies_1001.loc[movies_1001['match_title'] == 'lola montes', 'imdb_id'] = 'tt0048308'\n",
    "movies_1001.loc[movies_1001['match_title'] == 'nights of cabiria', 'imdb_id'] = 'tt0050783'\n",
    "movies_1001.loc[movies_1001['match_title'] == 'la jetee', 'imdb_id'] = 'tt0056119'\n",
    "movies_1001.loc[movies_1001['match_title'] == 'dog star man', 'imdb_id'] = 'tt5896468'\n",
    "movies_1001.loc[movies_1001['match_title'] == '8 1/2', 'imdb_id'] = 'tt0056801'\n",
    "movies_1001.loc[movies_1001['match_title'] == 'mediterranee', 'imdb_id'] = 'tt0197719'\n",
    "movies_1001.loc[movies_1001['match_title'] == 'dr. strangelove, or how i learned to stop worrying and love the bomb', 'imdb_id'] = 'tt0057012'\n",
    "movies_1001.loc[movies_1001['match_title'] == 'the war game', 'imdb_id'] = 'tt0059894'\n",
    "movies_1001.loc[movies_1001['match_title'] == 'the golden thread', 'imdb_id'] = 'tt0056537'\n",
    "movies_1001.loc[movies_1001['match_title'] == 'masculin feminin', 'imdb_id'] = 'tt0060675'\n",
    "movies_1001.loc[movies_1001['match_title'] == 'week end', 'imdb_id'] = 'tt0062480'\n",
    "movies_1001.loc[movies_1001['match_title'] == 'le samourai', 'imdb_id'] = 'tt0062229'\n",
    "movies_1001.loc[movies_1001['match_title'] == 'marketa lazarova', 'imdb_id'] = 'tt0063278'\n",
    "movies_1001.loc[movies_1001['match_title'] == 'a touch of zen', 'imdb_id'] = 'tt0064451'\n",
    "movies_1001.loc[movies_1001['match_title'] == 'lucia', 'imdb_id'] = 'tt0064609'\n",
    "movies_1001.loc[movies_1001['match_title'] == 'the spider\\'s strategem', 'imdb_id'] = 'tt0066413'\n",
    "movies_1001.loc[movies_1001['match_title'] == 'm*a*s*h', 'imdb_id'] = 'tt0066026'\n",
    "movies_1001.loc[movies_1001['match_title'] == 'mccabe and mrs. miller', 'imdb_id'] = 'tt0067411'\n",
    "movies_1001.loc[movies_1001['match_title'] == 'the sorrow and the pity', 'imdb_id'] = 'tt0066904'\n",
    "movies_1001.loc[movies_1001['match_title'] == 'willy wonka and the chocolate factory', 'imdb_id'] = 'tt0067992'\n",
    "movies_1001.loc[movies_1001['match_title'] == 'aguirre: the wrath of god', 'imdb_id'] = 'tt0068182'\n",
    "movies_1001.loc[movies_1001['match_title'] == 'cries and whispers', 'imdb_id'] = 'tt0069467'\n",
    "movies_1001.loc[movies_1001['match_title'] == 'superfly', 'imdb_id'] = 'tt0069332'\n",
    "movies_1001.loc[movies_1001['match_title'] == 'pat garrett and billy the kid', 'imdb_id'] = 'tt0070518'\n",
    "movies_1001.loc[movies_1001['match_title'] == 'the texas chainsaw massacre', 'imdb_id'] = 'tt0072271'\n",
    "movies_1001.loc[movies_1001['match_title'] == 'jeanne dielman, 23 quai du commerce, 1080 bruxelles', 'imdb_id'] = 'tt0073198'\n",
    "movies_1001.loc[movies_1001['match_title'] == 'the nail of brightness', 'imdb_id'] = 'tt0073363'\n",
    "movies_1001.loc[movies_1001['match_title'] == 'salo, or the 120 days of sodom', 'imdb_id'] = 'tt0073650'\n",
    "movies_1001.loc[movies_1001['match_title'] == 'star wars', 'imdb_id'] = 'tt0076759'\n",
    "movies_1001.loc[movies_1001['match_title'] == 'e.t.: the extra-terrestrial', 'imdb_id'] = 'tt0083866'\n",
    "movies_1001.loc[movies_1001['match_title'] == 'too early, too late', 'imdb_id'] = 'tt0083230'\n",
    "movies_1001.loc[movies_1001['match_title'] == 'star wars: episode vi - the return of the jedi', 'imdb_id'] = 'tt0086190'\n",
    "movies_1001.loc[movies_1001['match_title'] == 'the fourth man', 'imdb_id'] = 'tt0086543'\n",
    "movies_1001.loc[movies_1001['match_title'] == 'the last battle', 'imdb_id'] = 'tt0085426'\n",
    "movies_1001.loc[movies_1001['match_title'] == 'a time to live and a time to die', 'imdb_id'] = 'tt0090185'\n",
    "movies_1001.loc[movies_1001['match_title'] == 'withnail and i', 'imdb_id'] = 'tt0094336'\n",
    "movies_1001.loc[movies_1001['match_title'] == 'hotel terminus', 'imdb_id'] = 'tt0095341'\n",
    "movies_1001.loc[movies_1001['match_title'] == 'naked gun, the: from the files of police squad!', 'imdb_id'] = 'tt0095705'\n",
    "movies_1001.loc[movies_1001['match_title'] == 'who framed roger rabbit?', 'imdb_id'] = 'tt0096438'\n",
    "movies_1001.loc[movies_1001['match_title'] == 'the decalogue', 'imdb_id'] = 'tt0092337'\n",
    "movies_1001.loc[movies_1001['match_title'] == 'when harry met sally…', 'imdb_id'] = 'tt0098635'\n",
    "movies_1001.loc[movies_1001['match_title'] == 'the cook', 'imdb_id'] = 'tt0097108'\n",
    "movies_1001.loc[movies_1001['match_title'] == 'say anything', 'imdb_id'] = 'tt0098258'\n",
    "movies_1001.loc[movies_1001['match_title'] == 'henry: portrait of a serial killer', 'imdb_id'] = 'tt0099763'\n",
    "movies_1001.loc[movies_1001['match_title'] == 'terminator 2: judgment day', 'imdb_id'] = 'tt0103064'\n",
    "movies_1001.loc[movies_1001['match_title'] == 'thirty-two short films about glenn gould', 'imdb_id'] = 'tt0108328'\n",
    "movies_1001.loc[movies_1001['match_title'] == 'the adventures of priscilla', 'imdb_id'] = 'tt0109045'\n",
    "movies_1001.loc[movies_1001['match_title'] == 'dear diary', 'imdb_id'] = 'tt0109382'\n",
    "movies_1001.loc[movies_1001['match_title'] == 'the kingdom', 'imdb_id'] = 'tt0108906'\n",
    "movies_1001.loc[movies_1001['match_title'] == 'secrets and lies', 'imdb_id'] = 'tt0117589'\n",
    "movies_1001.loc[movies_1001['match_title'] == 'fast, cheap and out of control', 'imdb_id'] = 'tt0119107'\n",
    "movies_1001.loc[movies_1001['match_title'] == 'tetsuo', 'imdb_id'] = 'tt0096251'\n",
    "movies_1001.loc[movies_1001['match_title'] == 'time regained', 'imdb_id'] = 'tt0189142'\n",
    "movies_1001.loc[movies_1001['match_title'] == 'lord of the rings, the: the fellowship of the ring', 'imdb_id'] = 'tt0120737'\n",
    "movies_1001.loc[movies_1001['match_title'] == 'lord of the rings, the: the two towers', 'imdb_id'] = 'tt0167261'\n",
    "movies_1001.loc[movies_1001['match_title'] == 'lord of the rings, the: the return of the king', 'imdb_id'] = 'tt0167260'\n",
    "movies_1001.loc[movies_1001['match_title'] == 'amelie', 'imdb_id'] = 'tt0211915'\n",
    "movies_1001.loc[movies_1001['match_title'] == 'what time is it over there?', 'imdb_id'] = 'tt0269746'\n",
    "movies_1001.loc[movies_1001['match_title'] == 'y tu mama tambien', 'imdb_id'] = 'tt0245574'\n",
    "movies_1001.loc[movies_1001['match_title'] == 'a.i.: artificial intelligence', 'imdb_id'] = 'tt0212720'\n",
    "movies_1001.loc[movies_1001['match_title'] == 'goodbye lenin!', 'imdb_id'] = 'tt0301357'\n",
    "movies_1001.loc[movies_1001['match_title'] == 'moolaade', 'imdb_id'] = 'tt0416991'\n",
    "movies_1001.loc[movies_1001['match_title'] == 'cache', 'imdb_id'] = 'tt0387898'\n",
    "movies_1001.loc[movies_1001['match_title'] == 'wall-e', 'imdb_id'] = 'tt0910970'\n",
    "movies_1001.loc[movies_1001['match_title'] == 'anvil! the story of anvil', 'imdb_id'] = 'tt1157605'\n",
    "movies_1001.loc[movies_1001['match_title'] == 'precious: based on the novel \"push\" by sapphire', 'imdb_id'] = 'tt0929632'\n",
    "movies_1001.loc[movies_1001['match_title'] == 'les miserables', 'imdb_id'] = 'tt1707386'\n",
    "movies_1001.loc[movies_1001['match_title'] == 'blancanieves', 'imdb_id'] = 'tt1854513'"
   ]
  },
  {
   "cell_type": "code",
   "execution_count": 19,
   "metadata": {},
   "outputs": [
    {
     "data": {
      "text/html": [
       "<div>\n",
       "<style>\n",
       "    .dataframe thead tr:only-child th {\n",
       "        text-align: right;\n",
       "    }\n",
       "\n",
       "    .dataframe thead th {\n",
       "        text-align: left;\n",
       "    }\n",
       "\n",
       "    .dataframe tbody tr th {\n",
       "        vertical-align: top;\n",
       "    }\n",
       "</style>\n",
       "<table border=\"1\" class=\"dataframe\">\n",
       "  <thead>\n",
       "    <tr style=\"text-align: right;\">\n",
       "      <th></th>\n",
       "      <th>Movie Title</th>\n",
       "      <th>Seen</th>\n",
       "      <th>Year</th>\n",
       "      <th>match_title</th>\n",
       "      <th>imdb_id</th>\n",
       "    </tr>\n",
       "  </thead>\n",
       "  <tbody>\n",
       "  </tbody>\n",
       "</table>\n",
       "</div>"
      ],
      "text/plain": [
       "Empty DataFrame\n",
       "Columns: [Movie Title, Seen, Year, match_title, imdb_id]\n",
       "Index: []"
      ]
     },
     "execution_count": 19,
     "metadata": {},
     "output_type": "execute_result"
    }
   ],
   "source": [
    "movies_1001[pd.isnull(movies_1001['imdb_id'])]"
   ]
  },
  {
   "cell_type": "code",
   "execution_count": 21,
   "metadata": {},
   "outputs": [
    {
     "data": {
      "text/html": [
       "<div>\n",
       "<style>\n",
       "    .dataframe thead tr:only-child th {\n",
       "        text-align: right;\n",
       "    }\n",
       "\n",
       "    .dataframe thead th {\n",
       "        text-align: left;\n",
       "    }\n",
       "\n",
       "    .dataframe tbody tr th {\n",
       "        vertical-align: top;\n",
       "    }\n",
       "</style>\n",
       "<table border=\"1\" class=\"dataframe\">\n",
       "  <thead>\n",
       "    <tr style=\"text-align: right;\">\n",
       "      <th></th>\n",
       "      <th>Movie Title</th>\n",
       "      <th>Seen</th>\n",
       "      <th>Year</th>\n",
       "      <th>match_title</th>\n",
       "      <th>imdb_id</th>\n",
       "    </tr>\n",
       "  </thead>\n",
       "  <tbody>\n",
       "    <tr>\n",
       "      <th>1172</th>\n",
       "      <td>Guardians of the Galaxy</td>\n",
       "      <td>1</td>\n",
       "      <td>2014</td>\n",
       "      <td>guardians of the galaxy</td>\n",
       "      <td>tt2015381</td>\n",
       "    </tr>\n",
       "    <tr>\n",
       "      <th>1173</th>\n",
       "      <td>Birdman: Or (The Unexpected Virtue of Ignorance)</td>\n",
       "      <td>0</td>\n",
       "      <td>2014</td>\n",
       "      <td>birdman: or</td>\n",
       "      <td>tt2562232</td>\n",
       "    </tr>\n",
       "    <tr>\n",
       "      <th>1174</th>\n",
       "      <td>Whiplash</td>\n",
       "      <td>1</td>\n",
       "      <td>2014</td>\n",
       "      <td>whiplash</td>\n",
       "      <td>tt2582802</td>\n",
       "    </tr>\n",
       "    <tr>\n",
       "      <th>1175</th>\n",
       "      <td>Theory of Everything, The</td>\n",
       "      <td>0</td>\n",
       "      <td>2014</td>\n",
       "      <td>the theory of everything</td>\n",
       "      <td>tt2980516</td>\n",
       "    </tr>\n",
       "    <tr>\n",
       "      <th>1176</th>\n",
       "      <td>Grand Budapest Hotel, The</td>\n",
       "      <td>1</td>\n",
       "      <td>2014</td>\n",
       "      <td>the grand budapest hotel</td>\n",
       "      <td>tt2278388</td>\n",
       "    </tr>\n",
       "  </tbody>\n",
       "</table>\n",
       "</div>"
      ],
      "text/plain": [
       "                                           Movie Title  Seen  Year  \\\n",
       "1172                           Guardians of the Galaxy     1  2014   \n",
       "1173  Birdman: Or (The Unexpected Virtue of Ignorance)     0  2014   \n",
       "1174                                          Whiplash     1  2014   \n",
       "1175                         Theory of Everything, The     0  2014   \n",
       "1176                         Grand Budapest Hotel, The     1  2014   \n",
       "\n",
       "                   match_title    imdb_id  \n",
       "1172   guardians of the galaxy  tt2015381  \n",
       "1173               birdman: or  tt2562232  \n",
       "1174                  whiplash  tt2582802  \n",
       "1175  the theory of everything  tt2980516  \n",
       "1176  the grand budapest hotel  tt2278388  "
      ]
     },
     "execution_count": 21,
     "metadata": {},
     "output_type": "execute_result"
    }
   ],
   "source": [
    "movies_1001.tail()"
   ]
  },
  {
   "cell_type": "code",
   "execution_count": 25,
   "metadata": {},
   "outputs": [
    {
     "data": {
      "text/plain": [
       "Movie Title    Trip to the Moon, A (La voyage dans la lune)\n",
       "Seen                                                      0\n",
       "Year                                                   1902\n",
       "match_title                              a trip to the moon\n",
       "imdb_id                                           tt0000417\n",
       "Name: 0, dtype: object"
      ]
     },
     "execution_count": 25,
     "metadata": {},
     "output_type": "execute_result"
    }
   ],
   "source": [
    "additions = pd.DataFrame([])"
   ]
  },
  {
   "cell_type": "code",
   "execution_count": null,
   "metadata": {
    "collapsed": true
   },
   "outputs": [],
   "source": []
  }
 ],
 "metadata": {
  "kernelspec": {
   "display_name": "Python 3",
   "language": "python",
   "name": "python3"
  },
  "language_info": {
   "codemirror_mode": {
    "name": "ipython",
    "version": 3
   },
   "file_extension": ".py",
   "mimetype": "text/x-python",
   "name": "python",
   "nbconvert_exporter": "python",
   "pygments_lexer": "ipython3",
   "version": "3.6.3"
  }
 },
 "nbformat": 4,
 "nbformat_minor": 2
}
